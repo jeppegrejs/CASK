{
 "cells": [
  {
   "cell_type": "code",
   "execution_count": 66,
   "metadata": {},
   "outputs": [],
   "source": [
    "import numpy as np\n",
    "import pandas as pd\n",
    "import matplotlib.pyplot as plt\n",
    "from scipy.optimize import curve_fit"
   ]
  },
  {
   "cell_type": "markdown",
   "metadata": {},
   "source": [
    "# _Indlæsning af data_"
   ]
  },
  {
   "cell_type": "markdown",
   "metadata": {},
   "source": [
    "### GRACE"
   ]
  },
  {
   "cell_type": "code",
   "execution_count": 67,
   "metadata": {},
   "outputs": [],
   "source": [
    "råsatellit = pd.read_csv('greenland_mass_200204_202311-kopi.txt', delimiter = '\\s+', header = None, skiprows = lambda x: x < 31)\n",
    "satellit = råsatellit.to_numpy()\n",
    "år_sat, dmasse_sat = satellit[:, 0], satellit[:, 1]\n",
    "densitet_is = 917\n",
    "dvol_sat = 10**12 * dmasse_sat/densitet_is   # Vi omregner massetilvækst til volumentilvækst\n",
    "V_sat_err = 10**12 * abs(1/densitet_is * satellit[:,2])"
   ]
  },
  {
   "cell_type": "markdown",
   "metadata": {},
   "source": [
    "### GRIP, NGRIP"
   ]
  },
  {
   "cell_type": "code",
   "execution_count": 68,
   "metadata": {},
   "outputs": [],
   "source": [
    "råNGRIP = pd.read_excel('NGRIP_acc_Vinther_etal_2009_GICC05_16Sep2010-kopi.xlsx', header = 58, usecols = [0,1,2,3,4,5,6,7,8])\n",
    "råGRIP = pd.read_excel('GRIP_acc_Vinther_etal_2009_GICC05_16Sep2010-kopi.xlsx', header = 54, usecols = [0,1,2,3,4,5,6,7])\n",
    "\n",
    "NGRIP, GRIP = råNGRIP.to_numpy(), råGRIP.to_numpy()\n",
    "NGRIPakk0, GRIPakk0 = NGRIP[:, 6], GRIP[:, 5]"
   ]
  },
  {
   "cell_type": "code",
   "execution_count": 69,
   "metadata": {},
   "outputs": [
    {
     "name": "stdout",
     "output_type": "stream",
     "text": [
      "gns akkumulation =  0.2034321448890318\n"
     ]
    }
   ],
   "source": [
    "akk_list = (NGRIPakk0[1:21] + GRIPakk0[1:21])/2 # Tager ikke første punkt med grunden manglende nedbørsdata\n",
    "akk_gns = np.mean(akk_list)\n",
    "print('gns akkumulation = ', akk_gns)"
   ]
  },
  {
   "cell_type": "markdown",
   "metadata": {},
   "source": [
    "### DMI"
   ]
  },
  {
   "cell_type": "code",
   "execution_count": 70,
   "metadata": {},
   "outputs": [],
   "source": [
    "rådata = pd.read_excel('DailyMinMax_Ilullisat_Cor-kopi.xlsx')\n",
    "data = rådata.to_numpy()\n",
    "år_rå, temp_rå = data[:,0], data[:,1]"
   ]
  },
  {
   "cell_type": "markdown",
   "metadata": {},
   "source": [
    "#### _Interpolering af DMI-data_"
   ]
  },
  {
   "cell_type": "code",
   "execution_count": 71,
   "metadata": {},
   "outputs": [],
   "source": [
    "def interpolation_år():\n",
    "    interpol_år = []\n",
    "    år = []\n",
    "    temp = []\n",
    "\n",
    "    for i in range(1, len(år_rå)):      # Finder mellempunkter for årsarrayet\n",
    "        punkt = (år_rå[i] + år_rå[i-1])/2\n",
    "        interpol_år.append(punkt)\n",
    "    \n",
    "    for i in range(len(interpol_år)):   # Laver liste med både DMI-årstal og mellempunkter\n",
    "        år.append(år_rå[i])\n",
    "        år.append(interpol_år[i])\n",
    "\n",
    "    år.append(år_rå[-1])   # Tilføjer det sidste rå datapunkt manuelt, da der et ét råt datapunkt mere end mellempunkterne.\n",
    "    \n",
    "    return år\n",
    "    \n",
    "år_DMI_inter = interpolation_år()     # Interpolerer temperaturdataen\n",
    "år_DMI_inter = np.array(år_DMI_inter)\n",
    "\n",
    "temp_DMI_inter = np.interp(år_DMI_inter, år_rå, temp_rå)"
   ]
  },
  {
   "cell_type": "markdown",
   "metadata": {},
   "source": [
    "### Slicing af DMI-/ og GRACE-data"
   ]
  },
  {
   "cell_type": "code",
   "execution_count": 72,
   "metadata": {},
   "outputs": [],
   "source": [
    "top = max(år_sat)   \n",
    "bund = min(år_sat)\n",
    "\n",
    "# Slicing af DMI-data\n",
    "temp_DMI = temp_DMI_inter[(år_DMI_inter <= top) & (år_DMI_inter >= bund)] # Nyt temperatur-array, som kun indeholder temperaturer for samme årrække som satellitdata\n",
    "år_DMI = år_DMI_inter[(år_DMI_inter <= top) & (år_DMI_inter >= bund)] # Sørger for, at vi også har et årstals-array med de tilsvarende indgange (samme maske)\n",
    "\n",
    "# Slicing af GRACE-data\n",
    "topDMI = max(år_DMI)\n",
    "dmasse_sat = dmasse_sat[år_sat <= topDMI]\n",
    "dvol_sat = dvol_sat[år_sat <= topDMI]\n",
    "V_sat_err = V_sat_err[år_sat <= topDMI]\n",
    "år_sat = år_sat[år_sat <= topDMI]"
   ]
  },
  {
   "cell_type": "markdown",
   "metadata": {},
   "source": [
    "# Funktion der bestemmer k_acc fra værdi af M_akk"
   ]
  },
  {
   "cell_type": "code",
   "execution_count": 73,
   "metadata": {},
   "outputs": [],
   "source": [
    "M_akk_mean = 642 * 10**12 # kg nedbør\n",
    "M_akk_std = 59 * 10**12 # kg"
   ]
  },
  {
   "cell_type": "code",
   "execution_count": 82,
   "metadata": {},
   "outputs": [],
   "source": [
    "dvol_sat_korr = dvol_sat - np.mean(dvol_sat) # volumenændringer for GRACE korrigeres, så det har nulpunkt i sit gennemsnit\n",
    "\n",
    "def optimering_akk(M_akk_tabel):\n",
    "\n",
    "    V_start = 2.99 * 10**15   # startvolumen af iskappe\n",
    "    H = 3 * 10**3       # starthøjde af iskappe\n",
    "    V = V_start  # startvolumen af iskappe\n",
    "    V_0 = V_start \n",
    "    V_sat = dvol_sat + V_0 - dvol_sat[0]\n",
    "    \n",
    "    R = (3/16*V/H)**(1/2)    # startradius af iskappe\n",
    "    T_f = 0        \n",
    "    alfa = - 9.8 * 10**(-3)  # konstant hvormed temperatur stiger per meter\n",
    "    k_0 = H/np.sqrt(R)   # formfaktor for iskappe. Antages global konstant\n",
    "    dt = 1/(365.25 * 4)  # tidsskridt (her 1/4 døgn) - omregnet til år\n",
    "\n",
    "    acc = akk_gns   # nedbør pr år [m/år]. Antages konstant i perioden\n",
    "    k_acc_test = 1   # denne tuningskonstant kommer fra vores undervurdering af nedbøren. Den kan vi også tune på, hvis nødvendigt. \n",
    "    k_melt = 1\n",
    "\n",
    "    # Der oprettes tomme lister til resultatet af simuleringen\n",
    "    V_list = []\n",
    "    V_melt_list = []\n",
    "    V_acc_list = []\n",
    "\n",
    "    for i in range(len(år_DMI)):\n",
    "        R = (3/16 * V/k_0)**(2/5)     # Ny radius af iskappe\n",
    "       \n",
    "        V_acc = k_acc_test * (acc * 8 * R**2) * dt  # Nedbøret dette tidsskridt\n",
    "       \n",
    "        if temp_DMI[i] - T_f <= 0:\n",
    "            V_melt = 0\n",
    "        elif temp_DMI[i] - T_f > 0:\n",
    "            V_melt = k_melt * 8/3 * R * (temp_DMI[i] - T_f) * ((T_f - temp_DMI[i])/(alfa * k_0))**2 * dt  # ganger tidsskridt og M på\n",
    "        V += V_acc - V_melt\n",
    "\n",
    "        V_list.append(V)\n",
    "        V_melt_list.append(V_melt)\n",
    "        V_acc_list.append(V_acc)\n",
    "\n",
    "   \n",
    "    V_sum = np.sum(V_acc_list)/(år_DMI[-1] - år_DMI[0])\n",
    "    V_akk_tabel = (M_akk_tabel)/(densitet_is) # m^3\n",
    "\n",
    "    k_acc = V_akk_tabel/V_sum\n",
    "    \n",
    "    return k_acc"
   ]
  },
  {
   "cell_type": "code",
   "execution_count": 83,
   "metadata": {},
   "outputs": [
    {
     "name": "stdout",
     "output_type": "stream",
     "text": [
      "2.30089779452381\n"
     ]
    }
   ],
   "source": [
    "# Laver optimering for gennemsnitligt akkumuleret nedbør\n",
    "k_acc = optimering_akk(M_akk_mean)\n",
    "print(k_acc)"
   ]
  },
  {
   "cell_type": "markdown",
   "metadata": {},
   "source": [
    "# Simuleringsfunktion til bestemmelse af k_melt"
   ]
  },
  {
   "cell_type": "code",
   "execution_count": 84,
   "metadata": {},
   "outputs": [],
   "source": [
    "V_start = 2.99 * 10**15   # startvolumen af iskappe\n",
    "dvol_sat_korr = dvol_sat - np.mean(dvol_sat) # volumenændringer for GRACE korrigeres, så det har nulpunkt i sit gennemsnit\n",
    "dvol_sat_err_korr = np.sqrt(V_sat_err**2 + (np.std(dvol_sat)/np.sqrt(len(dvol_sat)))**2)\n",
    "\n",
    "def simulering(år_sat, k_melt):\n",
    "    \n",
    "    # De globale konstanter defineres\n",
    "    V = V_start  # startvolumen af iskappe\n",
    "    V_0 = V_start \n",
    "    H = 3 * 10**3       # Starthøjde af iskappe\n",
    "    R = (3/16*V/H)**(1/2)     # Startradius af iskappe\n",
    "    T_f = 0        \n",
    "    alfa = - 9.8 * 10**(-3)  # konstant hvormed temperatur stiger per meter\n",
    "    k_0 = H/np.sqrt(R)   # formfaktor for iskappe. Antages global konstant\n",
    "    dt = 1/(365.25 * 4)  # Tidsskridt (her 1/4 døgn) - omregnet til år\n",
    "    \n",
    "    acc = akk_gns   # Nedbør pr år [m/år]. Antages konstant i perioden\n",
    "\n",
    "    \n",
    "    # Der oprettes tomme lister til resultatet af simuleringen\n",
    "    V_list = []\n",
    "    V_melt_list = []\n",
    "    V_acc_list = []\n",
    "    \n",
    "    \n",
    "    for i in range(1, len(år_DMI) + 1):\n",
    "        R = (3/16 * V/k_0)**(2/5)     # Ny radius af iskappe\n",
    "        \n",
    "        V_acc = k_acc * (acc * 8 * R**2) * dt  # Nedbøret dette tidsskridt\n",
    "        \n",
    "        if temp_DMI[-i] - T_f <= 0:\n",
    "            V_melt = 0\n",
    "        elif temp_DMI[-i] - T_f > 0:\n",
    "            V_melt = k_melt * 8/3 * R * (temp_DMI[-i] - T_f) * ((T_f - temp_DMI[-i])/(alfa * k_0))**2 * dt  # ganger tidsskridt og M på\n",
    "        V +=  - V_acc + V_melt\n",
    "        \n",
    "        V_list.append(V)\n",
    "        V_melt_list.append(V_melt)\n",
    "        V_acc_list.append(V_acc)\n",
    "    \n",
    "    V_list.reverse()\n",
    "\n",
    "    dvol_sim = V_list - np.mean(V_list)\n",
    "\n",
    "    dvol_sim_fit = np.interp(år_sat, år_DMI, dvol_sim)\n",
    "\n",
    "    return dvol_sim_fit"
   ]
  },
  {
   "cell_type": "markdown",
   "metadata": {},
   "source": [
    "# Optimal k_melt for k_acc"
   ]
  },
  {
   "cell_type": "code",
   "execution_count": 85,
   "metadata": {},
   "outputs": [
    {
     "name": "stdout",
     "output_type": "stream",
     "text": [
      "[8.15302445]\n",
      "[0.01330551]\n"
     ]
    }
   ],
   "source": [
    "par, cov = curve_fit(simulering, år_sat, dvol_sat_korr, p0 = 7, sigma = dvol_sat_err_korr, absolute_sigma= True)\n",
    "\n",
    "k_melt = par\n",
    "dk_melt = np.sqrt(np.diag(cov))\n",
    "\n",
    "print(k_melt)\n",
    "print(dk_melt)"
   ]
  },
  {
   "cell_type": "code",
   "execution_count": 86,
   "metadata": {},
   "outputs": [],
   "source": [
    "V_start = 2.99 * 10**15   # startvolumen af iskappe\n",
    "dvol_sat_korr = dvol_sat - np.mean(dvol_sat) # volumenændringer for GRACE korrigeres, så det har nulpunkt i sit gennemsnit\n",
    "dvol_sat_err_korr = np.sqrt(V_sat_err**2 + (np.std(dvol_sat)/np.sqrt(len(dvol_sat)))**2)\n",
    "\n",
    "def simulering2(år_sat, k_melt):\n",
    "    \n",
    "    # De globale konstanter defineres\n",
    "    V = V_start  # startvolumen af iskappe\n",
    "    V_0 = V_start \n",
    "    H = 3 * 10**3       # Starthøjde af iskappe\n",
    "    R = (3/16*V/H)**(1/2)     # Startradius af iskappe\n",
    "    T_f = 0        \n",
    "    alfa = - 9.8 * 10**(-3)  # konstant hvormed temperatur stiger per meter\n",
    "    k_0 = H/np.sqrt(R)   # formfaktor for iskappe. Antages global konstant\n",
    "    dt = 1/(365.25 * 4)  # Tidsskridt (her 1/4 døgn) - omregnet til år\n",
    "    \n",
    "    acc = akk_gns   # Nedbør pr år [m/år]. Antages konstant i perioden\n",
    "\n",
    "    \n",
    "    # Der oprettes tomme lister til resultatet af simuleringen\n",
    "    V_list = []\n",
    "    V_melt_list = []\n",
    "    V_acc_list = []\n",
    "    \n",
    "    \n",
    "    for i in range(1, len(år_DMI) + 1):\n",
    "        R = (3/16 * V/k_0)**(2/5)     # Ny radius af iskappe\n",
    "        \n",
    "        V_acc = k_acc * (acc * 8 * R**2) * dt  # Nedbøret dette tidsskridt\n",
    "        \n",
    "        if temp_DMI[-i] - T_f <= 0:\n",
    "            V_melt = 0\n",
    "        elif temp_DMI[-i] - T_f > 0:\n",
    "            V_melt = k_melt * 8/3 * R * (temp_DMI[-i] - T_f) * ((T_f - temp_DMI[-i])/(alfa * k_0))**2 * dt  # ganger tidsskridt og M på\n",
    "        V +=  - V_acc + V_melt\n",
    "        \n",
    "        V_list.append(V)\n",
    "        V_melt_list.append(V_melt)\n",
    "        V_acc_list.append(V_acc)\n",
    "    \n",
    "    V_list.reverse()\n",
    "\n",
    "    dvol_sim = V_list - np.mean(V_list)\n",
    "\n",
    "    dvol_sim_fit = np.interp(år_sat, år_DMI, dvol_sim)\n",
    "\n",
    "    return dvol_sim"
   ]
  },
  {
   "cell_type": "code",
   "execution_count": 87,
   "metadata": {},
   "outputs": [],
   "source": [
    "test2 = simulering2(år_sat, 8.15302445)"
   ]
  },
  {
   "cell_type": "markdown",
   "metadata": {},
   "source": [
    "# Plot"
   ]
  },
  {
   "cell_type": "code",
   "execution_count": 90,
   "metadata": {},
   "outputs": [
    {
     "data": {
      "text/plain": [
       "<matplotlib.legend.Legend at 0x155e81550>"
      ]
     },
     "execution_count": 90,
     "metadata": {},
     "output_type": "execute_result"
    },
    {
     "data": {
      "image/png": "[encoded data removed]",
      "text/plain": [
       "<Figure size 640x480 with 1 Axes>"
      ]
     },
     "metadata": {},
     "output_type": "display_data"
    }
   ],
   "source": [
    "test = simulering(år_sat, 8.15302445) # her simuleres til den optimale k_melt for den k_acc der findes, når vi bruger M_akk_mean\n",
    "\n",
    "plt.plot(år_DMI, test2, \",\", label = 'Simulering') # plot noget andet? det interpolerede data\n",
    "plt.errorbar(år_sat, dvol_sat_korr, yerr = dvol_sat_err_korr, fmt = '.', ecolor = \"orange\", color = \"red\", alpha = 0.5, label = 'GRACE-data')\n",
    "plt.xlabel(\"År e.v.t.\", fontsize = 11)\n",
    "plt.ylabel('Volumen $[m^3]$', fontsize = 11)\n",
    "plt.xticks(rotation = 45)\n",
    "plt.title('Udvikling af iskappens volumen de sidste 20 år')\n",
    "plt.legend()"
   ]
  }
 ],
 "metadata": {
  "kernelspec": {
   "display_name": "base",
   "language": "python",
   "name": "python3"
  },
  "language_info": {
   "codemirror_mode": {
    "name": "ipython",
    "version": 3
   },
   "file_extension": ".py",
   "mimetype": "text/x-python",
   "name": "python",
   "nbconvert_exporter": "python",
   "pygments_lexer": "ipython3",
   "version": "3.11.4"
  }
 },
 "nbformat": 4,
 "nbformat_minor": 2
}
