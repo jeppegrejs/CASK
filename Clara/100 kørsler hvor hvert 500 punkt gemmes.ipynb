{
 "cells": [
  {
   "cell_type": "code",
   "execution_count": 24,
   "metadata": {},
   "outputs": [],
   "source": [
    "import numpy as np\n",
    "import pandas as pd\n",
    "import matplotlib.pyplot as plt\n",
    "from scipy.optimize import curve_fit\n",
    "from scipy.interpolate import interp1d\n",
    "import numpy.random as r\n",
    "from tqdm import tqdm"
   ]
  },
  {
   "cell_type": "markdown",
   "metadata": {},
   "source": [
    "# Her i starten indlæses bare data og korrigeres for k_acc, som vi har gjort tidligere. Led efter næste markdown, hvor der står, at der er ændringer"
   ]
  },
  {
   "cell_type": "code",
   "execution_count": 2,
   "metadata": {},
   "outputs": [],
   "source": [
    "rådata_holocæn = pd.read_excel('Temperaturdata_alene.xlsx', header = 29)\n",
    "rådata_holocæn = rådata_holocæn.to_numpy()\n",
    "år20_rå = rådata_holocæn[:,0]\n",
    "temp20_rå = rådata_holocæn[:,1]\n",
    "\n",
    "#plt.plot(år20_rå,temp20_rå)\n",
    "#\n",
    "#plt.xlabel('Tid tilbage [år]', fontsize = 13)\n",
    "#plt.ylabel('Temperaturafigelse [grader celsius]', fontsize = 13)\n",
    "#plt.title(\"Gennemsnitlig temperaturafvigelse gennem den Holocæne periode\", fontsize = 13)"
   ]
  },
  {
   "cell_type": "code",
   "execution_count": 3,
   "metadata": {},
   "outputs": [],
   "source": [
    "rådata = pd.read_excel('Ægte_DailyMinMax_Ilullisat_Cor-2.xlsx')\n",
    "#print(rådata)\n",
    "data = rådata.to_numpy()\n",
    "år_rå, temp_rå = data[:,0], data[:,1]"
   ]
  },
  {
   "cell_type": "markdown",
   "metadata": {},
   "source": [
    "Interpolering af DMI-data"
   ]
  },
  {
   "cell_type": "code",
   "execution_count": 4,
   "metadata": {},
   "outputs": [
    {
     "name": "stdout",
     "output_type": "stream",
     "text": [
      "216227\n"
     ]
    }
   ],
   "source": [
    "def interpolation_år():\n",
    "    interpol_år = []\n",
    "    år = []\n",
    "    temp = []\n",
    "    for i in range(1, len(år_rå)):      # Finder mellempunkter for årsarrayet\n",
    "        punkt = (år_rå[i] + år_rå[i-1])/2\n",
    "        interpol_år.append(punkt)\n",
    "    \n",
    "    for i in range(len(interpol_år)):   # Laver liste med både DMI-årstal og mellempunkter\n",
    "        år.append(år_rå[i])\n",
    "        år.append(interpol_år[i])\n",
    "    #print(interpol_år)\n",
    "    år.append(år_rå[-1])   # Tilføjer det sidste rå datapunkt manuelt, da der et ét råt datapunkt mere end mellempunkterne.\n",
    "    print(len(år))\n",
    "    return år\n",
    "    \n",
    "år_DMI_inter = interpolation_år()      # Interpolerer temperaturdataen\n",
    "\n",
    "år_DMI_inter = np.array(år_DMI_inter)\n",
    "\n",
    "temp_DMI_inter = np.interp(år_DMI_inter, år_rå, temp_rå)\n",
    "\n",
    "#plt.plot(år_DMI_inter, temp_DMI_inter)\n",
    "#\n",
    "#print(len(år_DMI_inter), len(temp_DMI_inter))"
   ]
  },
  {
   "cell_type": "code",
   "execution_count": 5,
   "metadata": {},
   "outputs": [],
   "source": [
    "råsatellit = pd.read_csv('greenland_mass_200204_202311.txt', delimiter = '\\s+', header = None, skiprows = lambda x: x < 31)\n",
    "satellit = råsatellit.to_numpy()\n",
    "år_sat, dmasse_sat = satellit[:, 0], satellit[:, 1]\n",
    "densitet_is = 917\n",
    "dvol_sat = 10**12 * dmasse_sat/densitet_is   # Vi omregner massetilvækst til volumentilvækst\n",
    "V_sat_err = 10**12 * abs(1/densitet_is * satellit[:,2])"
   ]
  },
  {
   "cell_type": "code",
   "execution_count": 6,
   "metadata": {},
   "outputs": [],
   "source": [
    "top = max(år_sat)   \n",
    "bund = min(år_sat)\n",
    "\n",
    "# Slicing af DMI-data\n",
    "\n",
    "temp_DMI = temp_DMI_inter[(år_DMI_inter <= top) & (år_DMI_inter >= bund)] # Nyt temperatur-array, som kun indeholder temperaturer for samme årrække som satellitdata\n",
    "år_DMI = år_DMI_inter[(år_DMI_inter <= top) & (år_DMI_inter >= bund)] # Sørger for, at vi også har et årstals-array med de tilsvarende indgange (samme maske)\n",
    "\n",
    "# Slicing af GRACE-data\n",
    "topDMI = max(år_DMI)\n",
    "dmasse_sat = dmasse_sat[år_sat <= topDMI]\n",
    "dvol_sat = dvol_sat[år_sat <= topDMI]\n",
    "V_sat_err = V_sat_err[år_sat <= topDMI]\n",
    "år_sat = år_sat[år_sat <= topDMI]"
   ]
  },
  {
   "cell_type": "code",
   "execution_count": 7,
   "metadata": {},
   "outputs": [],
   "source": [
    "råNGRIP = pd.read_excel('rådata NGRIP_acc_Vinther_etal_2009_GICC05_16Sep2010.xlsx', header = 58, usecols = [0,1,2,3,4,5,6,7,8])\n",
    "råGRIP = pd.read_excel('GRIP_acc_Vinther_etal_2009_GICC05_16Sep2010.xlsx', header = 54, usecols = [0,1,2,3,4,5,6,7])\n",
    "\n",
    "NGRIP, GRIP = råNGRIP.to_numpy(), råGRIP.to_numpy()\n",
    "NGRIPakk0, GRIPakk0 = NGRIP[:, 6], GRIP[:, 5]\n",
    "NGRIPår0, GRIPår0 = NGRIP[:, 1], GRIP[:, 1]\n",
    "NGRIP_delevation, GRIP_delevation = NGRIP[:, 8], GRIP[:, 7]"
   ]
  },
  {
   "cell_type": "code",
   "execution_count": 8,
   "metadata": {},
   "outputs": [
    {
     "name": "stdout",
     "output_type": "stream",
     "text": [
      "gns akkumulation =  0.2034321448890318\n"
     ]
    }
   ],
   "source": [
    "akk_list = (NGRIPakk0[1:21] + GRIPakk0[1:21])/2   # Tager ikke første punkt med grunden manglende nedbørsdata\n",
    "akk_gns = np.mean(akk_list)\n",
    "print('gns akkumulation = ', akk_gns)"
   ]
  },
  {
   "cell_type": "code",
   "execution_count": 9,
   "metadata": {},
   "outputs": [],
   "source": [
    "def optimering_akk(M_akk_tabel):\n",
    "\n",
    "    dvol_sat_korr = dvol_sat - np.mean(dvol_sat) # volumenændringer for GRACE korrigeres, så det har nulpunkt i sit gennemsnit\n",
    "\n",
    "\n",
    "    V_start = 2.99 * 10**15   # startvolumen af iskappe\n",
    "    H = 3 * 10**3       # Starthøjde af iskappe\n",
    "    V = V_start  # startvolumen af iskappe\n",
    "    V_0 = V_start \n",
    "    V_sat = dvol_sat + V_0 - dvol_sat[0]\n",
    "    \n",
    "    R = (3/16*V/H)**(1/2)    # Startradius af iskappe\n",
    "    T_f = 0        \n",
    "    alfa = - 9.8 * 10**(-3)  # konstant hvormed temperatur stiger per meter\n",
    "    k = H/np.sqrt(R)   # formfaktor for iskappe. Antages global konstant\n",
    "    dt = 1/(365.25 * 4)  # Tidsskridt (her 1/4 døgn) - omregnet til år\n",
    "\n",
    "    acc = akk_gns   # Nedbør pr år [m/år]. Antages konstant i perioden\n",
    "    k_acc_test = 1   # Denne tuningskonstant kommer fra vores undervurdering af nedbøren. Den kan vi også tune på, hvis nødvendigt. \n",
    "    k_melt = 1\n",
    "\n",
    "    #Der oprettes tomme lister til resultatet af simuleringen\n",
    "    V_list = []\n",
    "    V_melt_list = []\n",
    "    V_acc_list = []\n",
    "\n",
    "\n",
    "    for i in range(len(år_DMI)):\n",
    "        R = (3/16 * V/k)**(2/5)     # Ny radius af iskappe\n",
    "       \n",
    "        V_acc = k_acc_test * (acc * 8 * R**2) * dt  # Nedbøret dette tidsskridt\n",
    "       \n",
    "        if temp_DMI[i] - T_f <= 0:\n",
    "            V_melt = 0\n",
    "        elif temp_DMI[i] - T_f > 0:\n",
    "            V_melt = k_melt * 8/3 * R * (temp_DMI[i] - T_f) * ((T_f - temp_DMI[i])/(alfa * k))**2 * dt  # ganger tidsskridt og M på\n",
    "        V += V_acc - V_melt\n",
    "\n",
    "        V_list.append(V)\n",
    "        V_melt_list.append(V_melt)\n",
    "        V_acc_list.append(V_acc)\n",
    "\n",
    "   \n",
    "    V_sum = np.sum(V_acc_list)/(år_DMI[-1] - år_DMI[0])\n",
    "    V_akk_tabel = (M_akk_tabel)/(densitet_is) #m^3\n",
    "\n",
    "    k_acc = V_akk_tabel/V_sum\n",
    "    \n",
    "    return k_acc"
   ]
  },
  {
   "cell_type": "code",
   "execution_count": 10,
   "metadata": {},
   "outputs": [],
   "source": [
    "M_akk_mean = 642 * 10**12    #kg\n",
    "M_akk_std = 59 * 10**12    #kg\n",
    "\n",
    "M_akk_list = r.normal(M_akk_mean, M_akk_std, 100)\n",
    "\n",
    "k_acc_værdier = []\n",
    "\n",
    "for x in M_akk_list:\n",
    "    k_acc = optimering_akk(x)\n",
    "\n",
    "    k_acc_værdier.append(k_acc)\n",
    "\n",
    "#print(k_acc_værdier)"
   ]
  },
  {
   "cell_type": "markdown",
   "metadata": {},
   "source": [
    "# __HERFRA NYT__"
   ]
  },
  {
   "cell_type": "code",
   "execution_count": 11,
   "metadata": {},
   "outputs": [],
   "source": [
    "V_start = 2.99 * 10**15   # startvolumen af iskappe\n",
    "dvol_sat_korr = dvol_sat - np.mean(dvol_sat) # volumenændringer for GRACE korrigeres, så det har nulpunkt i sit gennemsnit\n",
    "dvol_sat_err_korr = np.sqrt(V_sat_err**2 + (np.std(dvol_sat)/np.sqrt(len(dvol_sat)))**2)\n",
    "\n",
    "\n",
    "def simulering(år_sat, k_melt):\n",
    "    \n",
    "    # De globale konstanter defineres\n",
    "    V = V_start  # startvolumen af iskappe\n",
    "    V_0 = V_start \n",
    "    H = 3 * 10**3       # Starthøjde af iskappe\n",
    "    R = (3/16*V/H)**(1/2)     # Startradius af iskappe\n",
    "    T_f = 0        \n",
    "    alfa = - 9.8 * 10**(-3)  # konstant hvormed temperatur stiger per meter\n",
    "    k = H/np.sqrt(R)   # formfaktor for iskappe. Antages global konstant\n",
    "    dt = 1/(365.25 * 4)  # Tidsskridt (her 1/4 døgn) - omregnet til år\n",
    "    \n",
    "    acc = akk_gns   # Nedbør pr år [m/år]. Antages konstant i perioden\n",
    "\n",
    "    \n",
    "    # Der oprettes tomme lister til resultatet af simuleringen\n",
    "    V_list = []\n",
    "    V_melt_list = []\n",
    "    V_acc_list = []\n",
    "    \n",
    "    \n",
    "    for i in range(1, len(år_DMI) + 1):\n",
    "        R = (3/16 * V/k)**(2/5)     # Ny radius af iskappe\n",
    "        \n",
    "        V_acc = k_acc * (acc * 8 * R**2) * dt  # Nedbøret dette tidsskridt\n",
    "        \n",
    "        if temp_DMI[-i] - T_f <= 0:\n",
    "            V_melt = 0\n",
    "        elif temp_DMI[-i] - T_f > 0:\n",
    "            V_melt = k_melt * 8/3 * R * (temp_DMI[-i] - T_f) * ((T_f - temp_DMI[-i])/(alfa * k))**2 * dt  # ganger tidsskridt og M på\n",
    "        V +=  - V_acc + V_melt\n",
    "        \n",
    "        V_list.append(V)\n",
    "        V_melt_list.append(V_melt)\n",
    "        V_acc_list.append(V_acc)\n",
    "    \n",
    "    V_list.reverse()\n",
    "\n",
    "    dvol_sim = V_list - np.mean(V_list)\n",
    "\n",
    "    dvol_sim_fit = np.interp(år_sat, år_DMI, dvol_sim)\n",
    "\n",
    "    return dvol_sim_fit \n",
    "\n",
    "\n",
    "# Nedenstående er bare et tjek af den nye funktion, som er lidt anderledes end de gamle\n",
    "#test = simulering(år_sat, 6.7)\n",
    "#\n",
    "##plt.plot(år, V_list)\n",
    "#plt.plot(år_sat, test, label = 'simulering')\n",
    "#plt.plot(år_sat, dvol_sat_korr)\n",
    "#plt.legend()\n"
   ]
  },
  {
   "cell_type": "markdown",
   "metadata": {},
   "source": [
    "## Curve_fit"
   ]
  },
  {
   "cell_type": "code",
   "execution_count": 12,
   "metadata": {},
   "outputs": [],
   "source": [
    "k_melt_list = []\n",
    "k_melt_err_list = []\n",
    "\n",
    "for x in k_acc_værdier:\n",
    "    k_acc = x\n",
    "    par, cov = curve_fit(simulering, år_sat, dvol_sat_korr, p0 = 1, sigma = dvol_sat_err_korr, absolute_sigma= True)\n",
    "    k_melt_list.append(par[0])\n",
    "    k_melt_err_list.append(np.sqrt(cov[0,0]))"
   ]
  },
  {
   "cell_type": "code",
   "execution_count": 13,
   "metadata": {},
   "outputs": [
    {
     "name": "stdout",
     "output_type": "stream",
     "text": [
      "100\n",
      "[7.793764806783167, 8.066439909733624, 8.798250116456186, 8.369568407308597, 7.583058371775736, 9.02966079017822, 8.444690950870488, 8.7360091451117, 8.58085111294115, 6.845915035030717, 7.787370914025731, 8.101440109334638, 8.550648832029488, 7.770889802046215, 8.813043549044316, 7.431996229070866, 8.37082233311917, 8.570231711916907, 8.3934100545947, 7.8508030569805545, 8.20367124406362, 7.112241002945523, 7.899988360904909, 8.298986466274487, 7.660403611035217, 8.614559523240887, 8.741934271495928, 8.210505773136651, 8.665430103697544, 7.26133525160456, 8.592692324250804, 7.894232101503376, 7.787687779435537, 7.468030195535627, 8.528107411308731, 8.304767422554736, 7.432037597358869, 7.673241543151826, 8.425668032921186, 7.871840485998432, 7.294544075088718, 8.887295654589012, 8.421203330642099, 6.923230099609211, 8.882657907624347, 8.998438724706128, 7.435302482416992, 7.386962313894497, 7.502145778958407, 8.26109214115033, 7.261203235236637, 8.002651784059083, 7.61535365054278, 8.826307419397853, 8.744170370576756, 7.479538488132997, 8.177394029999348, 8.647268989299942, 7.0636452735850535, 8.265763593945456, 8.28713576373997, 8.265209252174506, 8.241176356120658, 8.941521746110212, 7.505694881009945, 7.773092654529008, 8.66180617750025, 7.981354204786638, 8.741127816649096, 8.377896479892039, 8.351355056479767, 8.510434725230276, 8.14563448771016, 8.154102110972437, 8.260147410482476, 7.7740990109524954, 7.9753866534589415, 8.02890926907561, 7.5893281628607525, 8.102959062304448, 8.489807662267095, 8.107797779925612, 7.7501922214258485, 7.888179126609947, 8.280821816423273, 8.614414754534083, 8.255551560201488, 8.305393956934335, 8.053528034148579, 8.742102541805599, 8.213390574653308, 8.535030155038767, 8.941578618369945, 7.330823406742716, 8.154779169425248, 9.030672490956285, 8.874371822470703, 8.590194190240648, 7.421374374036099, 8.723738129452267]\n",
      "[0.01330569973739888, 0.013305296696948604, 0.013307344732232813, 0.013305457663141333, 0.01330504641066365, 0.013306995048093097, 0.013305687900736394, 0.013303020868325775, 0.013304926149326995, 0.0133030089020782, 0.013304913462461187, 0.013304269016629478, 0.013307670967790905, 0.01330560421255324, 0.013304592297770711, 0.013305229774110276, 0.013305663188576148, 0.013305812659166697, 0.013303426150412967, 0.01330395403212824, 0.013305920094698281, 0.013305312380448523, 0.013301239450590299, 0.013304464068394556, 0.01330404297835901, 0.013307122301413342, 0.01330596962351376, 0.013303824511543024, 0.01330769961740235, 0.013302684968391676, 0.01330509112110993, 0.01330703156450942, 0.013302959321810191, 0.013305198580495116, 0.013304838196368445, 0.013305940098807971, 0.013304503783560347, 0.013303757604197225, 0.013306202191509076, 0.013302593485421753, 0.01330215709470601, 0.013304542226000096, 0.013303641012404107, 0.013303061046466601, 0.013307021634672482, 0.013304859371103088, 0.013304928652675397, 0.013303782091743979, 0.013305051154289557, 0.013304923200643725, 0.013304289376205817, 0.013304505370818846, 0.013304379618591496, 0.013306282138672796, 0.013305737817359702, 0.01330290920728281, 0.013303426055296667, 0.013305781176736347, 0.013301806658708998, 0.013304638381753166, 0.013304158049763528, 0.013304714458212208, 0.013303260491613294, 0.013307118004271434, 0.013304079575482249, 0.013302241261765812, 0.013306580202352774, 0.013302877429300688, 0.013306323458091658, 0.013304418893339678, 0.013304923831588633, 0.013302608053447918, 0.013304521897757281, 0.013304457927792591, 0.013303551372389472, 0.0133036324064447, 0.013304798256290952, 0.013304528405787702, 0.013303464446605946, 0.013304259379750254, 0.01330370840626192, 0.013306455925383712, 0.013304267904692163, 0.013304285630315443, 0.013304588340605846, 0.01330461776825361, 0.013305503647137888, 0.013307747520142674, 0.013305424613501116, 0.01330487098361854, 0.013304349034459645, 0.013303525209787765, 0.013307334386305549, 0.013303238642014588, 0.013304097799626838, 0.013307998814336116, 0.013305725780570427, 0.013306233494980588, 0.013305280992680545, 0.013306492684860314]\n"
     ]
    }
   ],
   "source": [
    "print(len(k_melt_list))\n",
    "print(k_melt_list)\n",
    "print(k_melt_err_list)"
   ]
  },
  {
   "cell_type": "markdown",
   "metadata": {},
   "source": [
    "# __Lange kørsler__"
   ]
  },
  {
   "cell_type": "code",
   "execution_count": 16,
   "metadata": {},
   "outputs": [],
   "source": [
    "gns1 = np.average(temp20_rå[0:5])\n",
    "\n",
    "top = 1980\n",
    "bund = 1880\n",
    "temp_X = temp_rå[(år_rå >= bund)&(år_rå < top)]\n",
    "\n",
    "gns2 = np.average(temp_X)\n",
    "\n",
    "forskel = np.absolute(gns1 - gns2)\n",
    "\n",
    "#plt.plot(np.linspace(1880,1980,len(temp_X)),temp_X, '.', c = 'skyblue', label = 'Meteorologisk data')\n",
    "#plt.plot(np.linspace(1880,1980,100), np.linspace(gns2,gns2,100), c = 'lightseagreen', label = 'Gennemsnit for meteorologisk data')\n",
    "#\n",
    "#plt.plot(np.linspace(1880,1980,5),temp20_rå[0:5], '.', c = 'darkorange', label = 'Iskernedatadata')\n",
    "#plt.plot(np.linspace(1880,1980,100), np.linspace(gns1,gns1,100), c = 'orange', label = 'Gennemsnit for iskernedata')\n",
    "#\n",
    "#plt.legend()\n",
    "#plt.xlabel('Tid [år]', fontsize = 13)\n",
    "#plt.ylabel(r'Temperatur [$^\\circ$C]', fontsize = 13)\n",
    "#\n",
    "#print(\"Forskellen er\", forskel)"
   ]
  },
  {
   "cell_type": "markdown",
   "metadata": {},
   "source": [
    "## Simulering af iskappevolumensudvikling gennem den sidste varmeperiode"
   ]
  },
  {
   "cell_type": "markdown",
   "metadata": {},
   "source": [
    "### Udvælger 20 år (år 1955-1975) og bruger deres årstidscyklus på iskernedata"
   ]
  },
  {
   "cell_type": "code",
   "execution_count": 17,
   "metadata": {},
   "outputs": [
    {
     "name": "stdout",
     "output_type": "stream",
     "text": [
      "[0.000000e+00 7.000000e-04 1.400000e-03 ... 1.999795e+01 1.999860e+01\n",
      " 1.999930e+01]\n",
      "0.0\n"
     ]
    }
   ],
   "source": [
    "top = 1975\n",
    "bund = 1955\n",
    "maske = (år_DMI_inter >= bund) & (år_DMI_inter < top)\n",
    "\n",
    "år_X = år_DMI_inter[maske]\n",
    "år_X = år_X - år_X[0]\n",
    "print(år_X)\n",
    "print(min(år_X))\n",
    "temp_X = temp_DMI_inter[maske]\n",
    "temp_X_afv = temp_X-np.average(temp_X)\n",
    "\n",
    "#print(år_X)\n",
    "#plt.plot(år_X,temp_X_afv, c = 'darkorange')\n",
    "#plt.xlabel('Tid [år]', fontsize = 14)\n",
    "#plt.ylabel(r'Temperaturafvigelse [$^\\circ$C]', fontsize = 14)"
   ]
  },
  {
   "cell_type": "markdown",
   "metadata": {},
   "source": [
    "## Lægger årstidscyklus ind over iskernedata"
   ]
  },
  {
   "cell_type": "code",
   "execution_count": 18,
   "metadata": {},
   "outputs": [],
   "source": [
    "temp_array = np.array([])\n",
    "år_array = np.array([])\n",
    "\n",
    "for i, j in np.nditer([temp20_rå, år20_rå]):\n",
    "    temp_c = i + temp_X - forskel #kysttemperatur\n",
    "    år_c = 2000 - j + 20 + år_X\n",
    "\n",
    "    temp_array = np.append(temp_array, temp_c)\n",
    "    år_array = np.append(år_array, år_c)"
   ]
  },
  {
   "cell_type": "code",
   "execution_count": 19,
   "metadata": {},
   "outputs": [],
   "source": [
    "#plt.plot(år_array, temp_array)"
   ]
  },
  {
   "cell_type": "code",
   "execution_count": 20,
   "metadata": {},
   "outputs": [],
   "source": [
    "#plt.plot(år_array, temp_array, '.')\n",
    "#plt.xlim(0,25)"
   ]
  },
  {
   "cell_type": "code",
   "execution_count": 21,
   "metadata": {},
   "outputs": [],
   "source": [
    "GRIP_age = GRIPår0[9:-24]\n",
    "NGRIP_age = NGRIPår0[16:-24]\n",
    "GRIP_acc_rate = GRIPakk0[9:-24]\n",
    "NGRIP_acc_rate = NGRIPakk0[16:-24]\n",
    "\n",
    "#plt.plot(GRIP_age, GRIP_acc_rate)\n",
    "#plt.plot(NGRIP_age, NGRIP_acc_rate)\n",
    "\n",
    "\n",
    "gns_acc_rate1 = (GRIP_acc_rate + NGRIP_acc_rate)/2 #m is/år fra år 1980\n",
    "gns_acc_rate = np.repeat(gns_acc_rate1, 365.25*4)*1/(365.25*4)\n",
    "\n",
    "#print(gns_acc_rate)\n",
    "#print(gns_acc_rate1/(365.25*4))"
   ]
  },
  {
   "cell_type": "markdown",
   "metadata": {},
   "source": [
    "# Simulering"
   ]
  },
  {
   "cell_type": "code",
   "execution_count": 22,
   "metadata": {},
   "outputs": [],
   "source": [
    "def langtidskørsel(k_acc, k_melt):    \n",
    "    V = 2.99 * 10**15        #m^3\n",
    "    H = 3 * 10**3            #m\n",
    "    R = (3/16*V/H)**(1/2)          #m\n",
    "    T_f = 0                  #grader\n",
    "    alfa = - 9.8 * 10**(-3)  #temperaturændring pr. højdeforøgelse (deg C/m)\n",
    "    k = H/np.sqrt(R)         #formfaktor. Vi antager, at iskappens form ikke ændrer sig\n",
    "    dt = 1/(4*365.25)        #tidsskridt i år\n",
    "\n",
    "    #k_melt = 8.5 * 5 * 2 * 10**(-1)  #Smeltekonstant    \n",
    "\n",
    "    V_list = []\n",
    "    V_melt_list = []         #For overbliks skyld\n",
    "    acc_list = []\n",
    "    R_list = []\n",
    "    år_list = []\n",
    "\n",
    "    N = 17000000\n",
    "    tæller = 0\n",
    "\n",
    "    for i, j in np.nditer([temp_array[0:N], gns_acc_rate[0:N]]):\n",
    "    \n",
    "        R = (3/16 * V/k)**(2/5)  #Jeppes formel. Undersøges senere\n",
    "        V_acc = k_acc * (j * 8 * R**2)*dt  #Volumen tilført pr tidsskridt.\n",
    "\n",
    "        if i - T_f < 0:\n",
    "            V_melt = 0\n",
    "\n",
    "        elif i == 0:\n",
    "            V_melt = 0\n",
    "\n",
    "        elif i - T_f > 0:\n",
    "            V_melt = dt*k_melt * 8/3 * R * (i - T_f) * ((T_f - i)/(alfa * k))**2 #Vi undersøger dette integrale senere #Tiføj ekstra getjerkonstant fra isbjergedannelse. + k_isbjerg\n",
    "            #og r_f = R - ((T_f - temp[t])/(alfa * k))**2\n",
    "\n",
    "        V +=  - V_acc + V_melt  #Omvendt fortegn for at gå tilbage i tid\n",
    "\n",
    "        if tæller % 500 == 0:\n",
    "            V_list.append(V)\n",
    "            V_melt_list.append(V_melt)\n",
    "            acc_list.append(V_acc)\n",
    "            R_list.append(R)\n",
    "            år_list.append(år_array[tæller])\n",
    "            tæller += 1\n",
    "        else:\n",
    "            tæller += 1\n",
    "        \n",
    "    V_list = np.array(V_list)\n",
    "    R_list = np.array(R_list)\n",
    "    år_list = np.array(år_list)\n",
    "\n",
    "    return V_list, R_list, år_list"
   ]
  },
  {
   "cell_type": "code",
   "execution_count": 25,
   "metadata": {},
   "outputs": [
    {
     "name": "stderr",
     "output_type": "stream",
     "text": [
      "  0%|          | 0/100 [00:00<?, ?it/s]"
     ]
    },
    {
     "name": "stderr",
     "output_type": "stream",
     "text": [
      "100%|██████████| 100/100 [4:39:05<00:00, 167.46s/it] \n"
     ]
    }
   ],
   "source": [
    "for i in tqdm(range(len(k_acc_værdier))):\n",
    "    V_list, R_list, år_list = langtidskørsel(k_acc_værdier[i], k_melt_list[i])\n",
    "    np.savez_compressed(f'Voluminer_holocæn{i}.npz', V_list = V_list)\n",
    "    np.savez_compressed(f'Radier_holocæn{i}.npz', R_list = R_list)\n",
    "    np.savez_compressed(f'årstal_holocæn{i}.npz', år_list = år_list)\n",
    "\n",
    "np.savez_compressed('k_værdier_holocæn.npz', k_acc_værdier = k_acc_værdier)"
   ]
  },
  {
   "cell_type": "code",
   "execution_count": 26,
   "metadata": {},
   "outputs": [
    {
     "data": {
      "text/plain": [
       "100"
      ]
     },
     "execution_count": 26,
     "metadata": {},
     "output_type": "execute_result"
    }
   ],
   "source": [
    "len(k_acc_værdier)"
   ]
  },
  {
   "cell_type": "code",
   "execution_count": 80,
   "metadata": {},
   "outputs": [],
   "source": [
    "år = np.load(\"årstal_lang_test0.npz\")\n",
    "#åår = år['V_kørsler']\n",
    "voluminer = np.load('Voluminer_lang_test0.npz')\n",
    "år = år['år_list']\n",
    "voluminer = voluminer['V_list']"
   ]
  },
  {
   "cell_type": "code",
   "execution_count": null,
   "metadata": {},
   "outputs": [],
   "source": []
  }
 ],
 "metadata": {
  "kernelspec": {
   "display_name": "base",
   "language": "python",
   "name": "python3"
  },
  "language_info": {
   "codemirror_mode": {
    "name": "ipython",
    "version": 3
   },
   "file_extension": ".py",
   "mimetype": "text/x-python",
   "name": "python",
   "nbconvert_exporter": "python",
   "pygments_lexer": "ipython3",
   "version": "3.11.4"
  }
 },
 "nbformat": 4,
 "nbformat_minor": 2
}
